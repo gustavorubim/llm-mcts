{
 "cells": [
  {
   "cell_type": "code",
   "execution_count": 2,
   "metadata": {},
   "outputs": [
    {
     "data": {
      "text/html": [
       "<img src=\"https://mermaid.ink/img/CmdyYXBoIFRECiAgICBBW1N0YXJ0IE1DVFNdIC0tPiBCe0luaXRpYWxpemUgUm9vdCBOb2RlfQogICAgQiAtLT4gQ1tTZWxlY3QgTGVhZiBOb2RlXQogICAgQyAtLT4gRHtJcyBMZWFmIGF0IE1heCBMZW5ndGg_fQogICAgRCAtLSBZZXMgLS0-IEVbU2ltdWxhdGUgZnJvbSBMZWFmXQogICAgRCAtLSBObyAtLT4gRltFeHBhbmQgTGVhZiBOb2RlXQogICAgRiAtLT4gR1tTaW11bGF0ZSBmcm9tIEV4cGFuZGVkIENoaWxkXQogICAgRSAtLT4gSFtCYWNrcHJvcGFnYXRlIFF1YWxpdHldCiAgICBHIC0tPiBICiAgICBIIC0tPiBJe0l0ZXJhdGlvbnMgQ29tcGxldGU_fQogICAgSSAtLSBObyAtLT4gQwogICAgSSAtLSBZZXMgLS0-IEpbU2VsZWN0IEJlc3QgU2VxdWVuY2VdCiAgICBKIC0tPiBLW091dHB1dCBGaW5hbCBTZXF1ZW5jZV07Cg==\"/>"
      ],
      "text/plain": [
       "<IPython.core.display.Image object>"
      ]
     },
     "metadata": {},
     "output_type": "display_data"
    }
   ],
   "source": [
    "import base64\n",
    "from IPython.display import Image, display\n",
    "import matplotlib.pyplot as plt\n",
    "\n",
    "def mm(graph):\n",
    "    graphbytes = graph.encode(\"utf8\")\n",
    "    base64_bytes = base64.urlsafe_b64encode(graphbytes)\n",
    "    base64_string = base64_bytes.decode(\"ascii\")\n",
    "    display(Image(url=\"https://mermaid.ink/img/\" + base64_string))\n",
    "\n",
    "\n",
    "    \n",
    "mm(\"\"\"\n",
    "graph TD\n",
    "    A[Start MCTS] --> B{Initialize Root Node}\n",
    "    B --> C[Select Leaf Node]\n",
    "    C --> D{Is Leaf at Max Length?}\n",
    "    D -- Yes --> E[Simulate from Leaf]\n",
    "    D -- No --> F[Expand Leaf Node]\n",
    "    F --> G[Simulate from Expanded Child]\n",
    "    E --> H[Backpropagate Quality]\n",
    "    G --> H\n",
    "    H --> I{Iterations Complete?}\n",
    "    I -- No --> C\n",
    "    I -- Yes --> J[Select Best Sequence]\n",
    "    J --> K[Output Final Sequence];\n",
    "\"\"\")"
   ]
  }
 ],
 "metadata": {
  "kernelspec": {
   "display_name": "master",
   "language": "python",
   "name": "python3"
  },
  "language_info": {
   "codemirror_mode": {
    "name": "ipython",
    "version": 3
   },
   "file_extension": ".py",
   "mimetype": "text/x-python",
   "name": "python",
   "nbconvert_exporter": "python",
   "pygments_lexer": "ipython3",
   "version": "3.11.7"
  }
 },
 "nbformat": 4,
 "nbformat_minor": 2
}
